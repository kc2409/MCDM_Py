{
  "nbformat": 4,
  "nbformat_minor": 0,
  "metadata": {
    "colab": {
      "provenance": [],
      "authorship_tag": "ABX9TyPDA3uHXmvTXLXIlo9KT97r",
      "include_colab_link": true
    },
    "kernelspec": {
      "name": "python3",
      "display_name": "Python 3"
    },
    "language_info": {
      "name": "python"
    }
  },
  "cells": [
    {
      "cell_type": "markdown",
      "metadata": {
        "id": "view-in-github",
        "colab_type": "text"
      },
      "source": [
        "<a href=\"https://colab.research.google.com/github/kc2409/fnd/blob/main/topsis_sensitivity_analysis.ipynb\" target=\"_parent\"><img src=\"https://colab.research.google.com/assets/colab-badge.svg\" alt=\"Open In Colab\"/></a>"
      ]
    },
    {
      "cell_type": "code",
      "execution_count": 1,
      "metadata": {
        "colab": {
          "base_uri": "https://localhost:8080/"
        },
        "id": "MBV0qTvVhVfW",
        "outputId": "86d5e642-a998-40ae-d26b-87ca6fc6b0ec"
      },
      "outputs": [
        {
          "output_type": "stream",
          "name": "stdout",
          "text": [
            "Looking in indexes: https://pypi.org/simple, https://us-python.pkg.dev/colab-wheels/public/simple/\n",
            "Requirement already satisfied: numpy in /usr/local/lib/python3.10/dist-packages (1.22.4)\n",
            "Requirement already satisfied: pandas in /usr/local/lib/python3.10/dist-packages (1.5.3)\n",
            "Requirement already satisfied: python-dateutil>=2.8.1 in /usr/local/lib/python3.10/dist-packages (from pandas) (2.8.2)\n",
            "Requirement already satisfied: pytz>=2020.1 in /usr/local/lib/python3.10/dist-packages (from pandas) (2022.7.1)\n",
            "Requirement already satisfied: six>=1.5 in /usr/local/lib/python3.10/dist-packages (from python-dateutil>=2.8.1->pandas) (1.16.0)\n"
          ]
        }
      ],
      "source": [
        "pip install numpy pandas\n"
      ]
    },
    {
      "cell_type": "code",
      "source": [
        "import pandas as pd\n",
        "import numpy as np\n",
        "\n",
        "# Load the criteria values\n",
        "data = pd.read_excel('date.xlsx')  # Replace 'data.csv' with the path to your data file\n"
      ],
      "metadata": {
        "id": "jreqMMRqhf28"
      },
      "execution_count": 6,
      "outputs": []
    },
    {
      "cell_type": "code",
      "source": [
        "weights = np.array([ [0.2, 0.267, 0.667, 0.333,0.133] ])"
      ],
      "metadata": {
        "id": "BmthqOhJiQRj"
      },
      "execution_count": 7,
      "outputs": []
    },
    {
      "cell_type": "code",
      "source": [
        "normalized_matrix = data.div(data.sum(axis=0), axis=1)\n",
        "weighted_matrix = normalized_matrix * weights\n",
        "ideal_solution = weighted_matrix.max()\n",
        "negative_ideal_solution = weighted_matrix.min()\n"
      ],
      "metadata": {
        "id": "pTmqUWnxih9x"
      },
      "execution_count": 8,
      "outputs": []
    },
    {
      "cell_type": "code",
      "source": [
        "def calculate_closeness(row, ideal, negative_ideal):\n",
        "    distance_to_ideal = np.linalg.norm(row - ideal)\n",
        "    distance_to_negative_ideal = np.linalg.norm(row - negative_ideal)\n",
        "    return distance_to_negative_ideal / (distance_to_ideal + distance_to_negative_ideal)\n",
        "\n",
        "closeness_scores = weighted_matrix.apply(lambda row: calculate_closeness(row, ideal_solution, negative_ideal_solution), axis=1)\n"
      ],
      "metadata": {
        "id": "FJnvFW0eipy8"
      },
      "execution_count": 9,
      "outputs": []
    },
    {
      "cell_type": "code",
      "source": [
        "sensitivity_weights = []\n",
        "\n",
        "# Iterate through the weights and create different combinations\n",
        "for i in range(len(weights[0])):\n",
        "    sensitivity_weights.append(weights.copy())\n",
        "    sensitivity_weights[-1][0, i] += 0.1  # Adjust the weight by 0.1\n",
        "\n",
        "sensitivity_weights = np.concatenate(sensitivity_weights, axis=0)"
      ],
      "metadata": {
        "id": "05kdWzN3ixNc"
      },
      "execution_count": 10,
      "outputs": []
    },
    {
      "cell_type": "code",
      "source": [
        "for weights in sensitivity_weights:\n",
        "    weighted_matrix = normalized_matrix * weights\n",
        "    ideal_solution = weighted_matrix.max()\n",
        "    negative_ideal_solution = weighted_matrix.min()\n",
        "    closeness_scores = weighted_matrix.apply(lambda row: calculate_closeness(row, ideal_solution, negative_ideal_solution), axis=1)\n",
        "    ranked_alternatives = closeness_scores.rank(ascending=False)\n",
        "    print(ranked_alternatives)"
      ],
      "metadata": {
        "colab": {
          "base_uri": "https://localhost:8080/"
        },
        "id": "dXfip6_0jKOj",
        "outputId": "9aa34949-425b-4137-ead4-ffbd67140adf"
      },
      "execution_count": 11,
      "outputs": [
        {
          "output_type": "stream",
          "name": "stdout",
          "text": [
            "0      6.0\n",
            "1      9.0\n",
            "2     12.0\n",
            "3     11.0\n",
            "4      5.0\n",
            "5     16.0\n",
            "6     14.0\n",
            "7      4.0\n",
            "8     13.0\n",
            "9     17.0\n",
            "10    10.0\n",
            "11     8.0\n",
            "12     1.0\n",
            "13     7.0\n",
            "14    15.0\n",
            "15    18.0\n",
            "16     3.0\n",
            "17     2.0\n",
            "dtype: float64\n",
            "0      6.0\n",
            "1      9.0\n",
            "2     10.0\n",
            "3     11.0\n",
            "4      5.0\n",
            "5     17.0\n",
            "6     14.0\n",
            "7      4.0\n",
            "8     13.0\n",
            "9     16.0\n",
            "10    12.0\n",
            "11     8.0\n",
            "12     1.0\n",
            "13     7.0\n",
            "14    15.0\n",
            "15    18.0\n",
            "16     3.0\n",
            "17     2.0\n",
            "dtype: float64\n",
            "0      6.0\n",
            "1      9.0\n",
            "2     10.0\n",
            "3     13.0\n",
            "4      5.0\n",
            "5     17.0\n",
            "6     14.0\n",
            "7      4.0\n",
            "8     12.0\n",
            "9     15.0\n",
            "10    11.0\n",
            "11     8.0\n",
            "12     1.0\n",
            "13     7.0\n",
            "14    16.0\n",
            "15    18.0\n",
            "16     3.0\n",
            "17     2.0\n",
            "dtype: float64\n",
            "0      6.0\n",
            "1      9.0\n",
            "2     10.0\n",
            "3     11.0\n",
            "4      5.0\n",
            "5     16.0\n",
            "6     14.0\n",
            "7      3.0\n",
            "8     13.0\n",
            "9     18.0\n",
            "10    12.0\n",
            "11     8.0\n",
            "12     1.0\n",
            "13     7.0\n",
            "14    15.0\n",
            "15    17.0\n",
            "16     4.0\n",
            "17     2.0\n",
            "dtype: float64\n",
            "0      6.0\n",
            "1      9.0\n",
            "2     10.0\n",
            "3     12.0\n",
            "4      5.0\n",
            "5     15.0\n",
            "6     14.0\n",
            "7      4.0\n",
            "8     13.0\n",
            "9     18.0\n",
            "10    11.0\n",
            "11     8.0\n",
            "12     1.0\n",
            "13     7.0\n",
            "14    16.0\n",
            "15    17.0\n",
            "16     2.0\n",
            "17     3.0\n",
            "dtype: float64\n"
          ]
        }
      ]
    }
  ]
}