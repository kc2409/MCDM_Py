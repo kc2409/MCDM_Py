{
  "nbformat": 4,
  "nbformat_minor": 0,
  "metadata": {
    "colab": {
      "provenance": [],
      "include_colab_link": true
    },
    "kernelspec": {
      "name": "python3",
      "display_name": "Python 3"
    }
  },
  "cells": [
    {
      "cell_type": "markdown",
      "metadata": {
        "id": "view-in-github",
        "colab_type": "text"
      },
      "source": [
        "<a href=\"https://colab.research.google.com/github/kc2409/fnd/blob/main/MCDA_pyDecisions_01_Fuzzy_AHP.ipynb\" target=\"_parent\"><img src=\"https://colab.research.google.com/assets/colab-badge.svg\" alt=\"Open In Colab\"/></a>"
      ]
    },
    {
      "cell_type": "code",
      "metadata": {
        "id": "UAVID3JlzygK"
      },
      "source": [
        "# Created by: Prof. Valdecy Pereira, D.Sc.\n",
        "# UFF - Universidade Federal Fluminense (Brazil)\n",
        "# email:  valdecy.pereira@gmail.com\n",
        "# Lesson: pyDecisions - Fuzzy AHP (Fuzzy Analytic Hierarchy Process)\n",
        "\n",
        "# GitHub Repository: <https://github.com/Valdecy>"
      ],
      "execution_count": null,
      "outputs": []
    },
    {
      "cell_type": "code",
      "metadata": {
        "id": "jVq4RSQcz9TQ",
        "outputId": "166a3a59-9055-418d-b7c8-3179309a5167",
        "colab": {
          "base_uri": "https://localhost:8080/"
        }
      },
      "source": [
        "!pip install pyDecision"
      ],
      "execution_count": 1,
      "outputs": [
        {
          "output_type": "stream",
          "name": "stdout",
          "text": [
            "Looking in indexes: https://pypi.org/simple, https://us-python.pkg.dev/colab-wheels/public/simple/\n",
            "Collecting pyDecision\n",
            "  Downloading pyDecision-2.8.7-py3-none-any.whl (68 kB)\n",
            "\u001b[2K     \u001b[90m━━━━━━━━━━━━━━━━━━━━━━━━━━━━━━━━━━━━━━━━\u001b[0m \u001b[32m68.6/68.6 kB\u001b[0m \u001b[31m2.4 MB/s\u001b[0m eta \u001b[36m0:00:00\u001b[0m\n",
            "\u001b[?25hRequirement already satisfied: matplotlib in /usr/local/lib/python3.10/dist-packages (from pyDecision) (3.7.1)\n",
            "Requirement already satisfied: numpy in /usr/local/lib/python3.10/dist-packages (from pyDecision) (1.22.4)\n",
            "Requirement already satisfied: scikit-learn in /usr/local/lib/python3.10/dist-packages (from pyDecision) (1.2.2)\n",
            "Requirement already satisfied: scipy in /usr/local/lib/python3.10/dist-packages (from pyDecision) (1.10.1)\n",
            "Requirement already satisfied: contourpy>=1.0.1 in /usr/local/lib/python3.10/dist-packages (from matplotlib->pyDecision) (1.0.7)\n",
            "Requirement already satisfied: cycler>=0.10 in /usr/local/lib/python3.10/dist-packages (from matplotlib->pyDecision) (0.11.0)\n",
            "Requirement already satisfied: fonttools>=4.22.0 in /usr/local/lib/python3.10/dist-packages (from matplotlib->pyDecision) (4.39.3)\n",
            "Requirement already satisfied: kiwisolver>=1.0.1 in /usr/local/lib/python3.10/dist-packages (from matplotlib->pyDecision) (1.4.4)\n",
            "Requirement already satisfied: packaging>=20.0 in /usr/local/lib/python3.10/dist-packages (from matplotlib->pyDecision) (23.1)\n",
            "Requirement already satisfied: pillow>=6.2.0 in /usr/local/lib/python3.10/dist-packages (from matplotlib->pyDecision) (8.4.0)\n",
            "Requirement already satisfied: pyparsing>=2.3.1 in /usr/local/lib/python3.10/dist-packages (from matplotlib->pyDecision) (3.0.9)\n",
            "Requirement already satisfied: python-dateutil>=2.7 in /usr/local/lib/python3.10/dist-packages (from matplotlib->pyDecision) (2.8.2)\n",
            "Requirement already satisfied: joblib>=1.1.1 in /usr/local/lib/python3.10/dist-packages (from scikit-learn->pyDecision) (1.2.0)\n",
            "Requirement already satisfied: threadpoolctl>=2.0.0 in /usr/local/lib/python3.10/dist-packages (from scikit-learn->pyDecision) (3.1.0)\n",
            "Requirement already satisfied: six>=1.5 in /usr/local/lib/python3.10/dist-packages (from python-dateutil>=2.7->matplotlib->pyDecision) (1.16.0)\n",
            "Installing collected packages: pyDecision\n",
            "Successfully installed pyDecision-2.8.7\n"
          ]
        }
      ]
    },
    {
      "cell_type": "code",
      "metadata": {
        "id": "b71Ibf-Y0EIt"
      },
      "source": [
        "# Required Libraries\n",
        "import numpy as np\n",
        "\n",
        "# Fuzzy AHP\n",
        "from pyDecision.algorithm import fuzzy_ahp_method"
      ],
      "execution_count": 2,
      "outputs": []
    },
    {
      "cell_type": "code",
      "metadata": {
        "id": "jvzXlPNe0QNg"
      },
      "source": [
        "# Fuzzy AHP\n",
        "\n",
        "# Dataset\n",
        "dataset = list([\n",
        "    [ (  1,   1,   1), (1/4, 1/3, 1/2),(1/8, 1/7, 1/6) ,(1/5, 1/4, 1/3), (  1,   2,   3)  ],   #g1\n",
        "    [ (  2,   3,   4) , (  1,   1,   1), (1/7, 1/6, 1/5),(1/6, 1/5, 1/4), (  2,   3,   4) ],   #g2\n",
        "    [ (  6,   7,   8) , (  5,   6,   7), (  1,   1,   1), (  3,   4,   5), (  7,   8,   9) ],   #g3\n",
        "    [ (  3,   4,   5) , (  4,   5,   6), (1/5, 1/4, 1/3), (  1,   1,   1), (  3,   4,   5) ],   #g4\n",
        "    [(1/3, 1/2, 1/1), (1/4, 1/3, 1/2), (1/9, 1/8, 1/7), (1/5, 1/4, 1/3), (  1,   1,   1) ]   #g5\n",
        "    ])"
      ],
      "execution_count": 31,
      "outputs": []
    },
    {
      "cell_type": "code",
      "metadata": {
        "id": "moxuneRG0SBP"
      },
      "source": [
        "# Call Fuzzy AHP Function\n",
        "fuzzy_weights, defuzzified_weights, normalized_weights, rc = fuzzy_ahp_method(dataset)"
      ],
      "execution_count": 32,
      "outputs": []
    },
    {
      "cell_type": "code",
      "metadata": {
        "colab": {
          "base_uri": "https://localhost:8080/"
        },
        "id": "yB8OazFp0Yrt",
        "outputId": "b2b5da76-d7ea-4f69-be4e-3733f55110c5"
      },
      "source": [
        "# Fuzzy Weigths\n",
        "for i in range(0, len(fuzzy_weights)):\n",
        "  print('g'+str(i+1)+': ', np.around(fuzzy_weights[i], 3))"
      ],
      "execution_count": 33,
      "outputs": [
        {
          "output_type": "stream",
          "name": "stdout",
          "text": [
            "g1:  [0.04  0.062 0.095]\n",
            "g2:  [0.069 0.103 0.15 ]\n",
            "g3:  [0.403 0.552 0.75 ]\n",
            "g4:  [0.165 0.238 0.342]\n",
            "g5:  [0.032 0.046 0.074]\n"
          ]
        }
      ]
    },
    {
      "cell_type": "code",
      "metadata": {
        "colab": {
          "base_uri": "https://localhost:8080/"
        },
        "id": "n_62jix302Un",
        "outputId": "f0ad5c3b-10b2-4d63-e52d-5b05ca5ff9f0"
      },
      "source": [
        "# Crisp Weigths\n",
        "for i in range(0, len(defuzzified_weights)):\n",
        "  print('g'+str(i+1)+': ', round(defuzzified_weights[i], 3))"
      ],
      "execution_count": 34,
      "outputs": [
        {
          "output_type": "stream",
          "name": "stdout",
          "text": [
            "g1:  0.066\n",
            "g2:  0.107\n",
            "g3:  0.568\n",
            "g4:  0.248\n",
            "g5:  0.05\n"
          ]
        }
      ]
    },
    {
      "cell_type": "code",
      "metadata": {
        "colab": {
          "base_uri": "https://localhost:8080/"
        },
        "id": "LL6loBFS1Xu-",
        "outputId": "b0f38e39-c6a6-463a-9986-2b131cc3cd03"
      },
      "source": [
        "# Normalized Weigths\n",
        "for i in range(0, len(normalized_weights)):\n",
        "  print('g'+str(i+1)+': ', round(normalized_weights[i], 3))"
      ],
      "execution_count": 35,
      "outputs": [
        {
          "output_type": "stream",
          "name": "stdout",
          "text": [
            "g1:  0.063\n",
            "g2:  0.103\n",
            "g3:  0.546\n",
            "g4:  0.239\n",
            "g5:  0.049\n"
          ]
        }
      ]
    },
    {
      "cell_type": "code",
      "source": [
        "# Consistency Ratio\n",
        "print('RC: ' + str(round(rc, 2)))\n",
        "if (rc > 0.10):\n",
        "  print('The solution is inconsistent, the pairwise comparisons must be reviewed')\n",
        "else:\n",
        "  print('The solution is consistent')"
      ],
      "metadata": {
        "colab": {
          "base_uri": "https://localhost:8080/"
        },
        "id": "dOENxNw4iASk",
        "outputId": "98ceb868-8acf-4c64-874e-6f61bb827fe1"
      },
      "execution_count": 36,
      "outputs": [
        {
          "output_type": "stream",
          "name": "stdout",
          "text": [
            "RC: 0.09\n",
            "The solution is consistent\n"
          ]
        }
      ]
    }
  ]
}