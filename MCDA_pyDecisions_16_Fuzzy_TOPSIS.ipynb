{
  "nbformat": 4,
  "nbformat_minor": 0,
  "metadata": {
    "colab": {
      "provenance": [],
      "include_colab_link": true
    },
    "kernelspec": {
      "name": "python3",
      "display_name": "Python 3"
    }
  },
  "cells": [
    {
      "cell_type": "markdown",
      "metadata": {
        "id": "view-in-github",
        "colab_type": "text"
      },
      "source": [
        "<a href=\"https://colab.research.google.com/github/kc2409/fnd/blob/main/MCDA_pyDecisions_16_Fuzzy_TOPSIS.ipynb\" target=\"_parent\"><img src=\"https://colab.research.google.com/assets/colab-badge.svg\" alt=\"Open In Colab\"/></a>"
      ]
    },
    {
      "cell_type": "code",
      "metadata": {
        "id": "L5s0XHsP4pga"
      },
      "source": [
        "# Created by: Prof. Valdecy Pereira, D.Sc.\n",
        "# UFF - Universidade Federal Fluminense (Brazil)\n",
        "# email:  valdecy.pereira@gmail.com\n",
        "# Lesson: pyDecisions - Fuzzy TOPSIS\n",
        "\n",
        "# GitHub Repository: <https://github.com/Valdecy>"
      ],
      "execution_count": null,
      "outputs": []
    },
    {
      "cell_type": "code",
      "metadata": {
        "id": "FOS3wfnR47_x"
      },
      "source": [
        "!pip install pyDecision"
      ],
      "execution_count": null,
      "outputs": []
    },
    {
      "cell_type": "code",
      "metadata": {
        "id": "ACyzQmER5GtD"
      },
      "source": [
        "# Required Libraries\n",
        "import numpy as np\n",
        "\n",
        "# Fuzzy TOPSIS\n",
        "from pyDecision.algorithm import fuzzy_topsis_method"
      ],
      "execution_count": null,
      "outputs": []
    },
    {
      "cell_type": "code",
      "metadata": {
        "id": "PS_GpWtf4qBj"
      },
      "source": [
        "# Fuzzy TOPSIS\n",
        "\n",
        "# Weigths\n",
        "weights = list([\n",
        "          [ (  0.04,   0.062,   0.095), (  0.069,   0.103,   0.15), (  0.403,   0.552,   0.75), (  0.165,   0.238,   0.342), (  0.032,   0.046,   0.074) ]\n",
        "    ])\n",
        "\n",
        "# Load Criterion Type: 'max' or 'min'\n",
        "criterion_type = ['max', 'max', 'min', 'min', 'min']\n",
        "\n",
        "# Dataset\n",
        "dataset = list([\n",
        "    [ (  5,   7,   9), (  5,   7,   9), (  5,   7,   9), (  1,   3,   5), (  3,   5,   7) ],   #a1\n",
        "    [ (  3,   5,   7), (  5,   7,   9), (  5,   7,   9), (  1,   3,   5), (  1,   3,   5) ],   #a2\n",
        "    [ (  1,   1,   3), (  7,   9,   9), (  3,   5,   7), (  5,   7,   9), (  5,   7,   9) ],   #a3\n",
        "    [ (  7,   9,   9), (  7,   9,   9), (  3,   5,   7), (  5,   7,   9), (  5,   7,   9) ],   #a4\n",
        "    [ (  5,   7,   9), (  5,   7,   9), (  5,   7,   9), (  5,   7,   9), (  5,   7,   9) ],   #a5\n",
        "    [ (  7,   9,   9), (  3,   5,   7), (  1,   1,   3), (  5,   7,   9), (  5,   7,   9) ],   #a6\n",
        "    [ (  5,   7,   9), (  5,   7,   9), (  3,   5,   7), (  5,   7,   9), (  5,   7,   9) ],   #a7\n",
        "    [ (  3,   5,   7), (  7,   9,   9), (  5,   7,   9), (  5,   7,   9), (  5,   7,   9) ],   #a8\n",
        "    [ (  1,   3,   5), (  5,   7,   9), (  3,   5,   7), (  5,   7,   9), (  5,   7,   9) ],   #a9\n",
        "    [ (  3,   5,   7), (  3,   5,   7), (  1,   3,   5), (  5,   7,   9), (  5,   7,   9) ],   #a10\n",
        "    [ (  7,   9,   9), (  1,   3,   5), (  3,   5,   7), (  5,   7,   9), (  5,   7,   9) ],   #a11\n",
        "    [ (  3,   5,   7), (  1,   3,   5), (  3,   5,   7), (  5,   7,   9), (  5,   7,   9) ],   #a12\n",
        "    [ (  5,   7,   9), (  5,   7,   9), (  7,   9,   9), (  5,   7,   9), (  5,   7,   9) ],   #a13\n",
        "    [ (  7,   9,   9), (  3,   5,   7), (  5,   7,   9), (  5,   7,   9), (  5,   7,   9) ],   #a14\n",
        "    [ (  7,   9,   9), (  3,   5,   7), (  1,   1,   3), (  5,   7,   9), (  5,   7,   9) ],   #a15\n",
        "    [ (  3,   5,   7), (  7,   9,   9), (  1,   1,   3), (  5,   7,   9), (  5,   7,   9) ],   #a16\n",
        "    [ (  7,   9,   9), (  7,   9,   9), (  7,   9,   9), (  5,   7,   9), (  5,   7,   9) ],   #a17\n",
        "    [ (  3,   5,   7), (  5,   7,   9), (  7,   9,   9), (  5,   7,   9), (  5,   7,   9) ]   #a18\n",
        "    ])"
      ],
      "execution_count": null,
      "outputs": []
    },
    {
      "cell_type": "code",
      "metadata": {
        "colab": {
          "base_uri": "https://localhost:8080/",
          "height": 261
        },
        "id": "Mvmki_7Y5NyF",
        "outputId": "26bff950-eec7-4c18-decf-ca2d0e0e6250"
      },
      "source": [
        "# Call Fuzzy TOPSIS\n",
        "relative_closeness = fuzzy_topsis_method(dataset, weights, criterion_type, graph = True)"
      ],
      "execution_count": null,
      "outputs": [
        {
          "output_type": "display_data",
          "data": {
            "image/png": "[encoded data removed]",
            "text/plain": [
              "<Figure size 432x288 with 1 Axes>"
            ]
          },
          "metadata": {
            "tags": [],
            "needs_background": "light"
          }
        }
      ]
    },
    {
      "cell_type": "code",
      "metadata": {
        "colab": {
          "base_uri": "https://localhost:8080/"
        },
        "id": "Z369XjFZ5l2n",
        "outputId": "d2e31d3e-8841-4f36-9f7c-5559d93da1b1"
      },
      "source": [
        "# Rank\n",
        "for i in range(0, relative_closeness.shape[0]):\n",
        "  print('a'+str(i+1)+' = ', round(relative_closeness[i], 2))"
      ],
      "execution_count": null,
      "outputs": [
        {
          "output_type": "stream",
          "text": [
            "a1 =  0.49\n",
            "a2 =  0.47\n",
            "a3 =  0.74\n",
            "a4 =  0.46\n"
          ],
          "name": "stdout"
        }
      ]
    }
  ]
}