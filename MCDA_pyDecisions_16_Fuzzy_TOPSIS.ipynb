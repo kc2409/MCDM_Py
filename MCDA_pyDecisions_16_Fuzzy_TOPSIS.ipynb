{
  "nbformat": 4,
  "nbformat_minor": 0,
  "metadata": {
    "colab": {
      "provenance": [],
      "include_colab_link": true
    },
    "kernelspec": {
      "name": "python3",
      "display_name": "Python 3"
    }
  },
  "cells": [
    {
      "cell_type": "markdown",
      "metadata": {
        "id": "view-in-github",
        "colab_type": "text"
      },
      "source": [
        "<a href=\"https://colab.research.google.com/github/kc2409/fnd/blob/main/MCDA_pyDecisions_16_Fuzzy_TOPSIS.ipynb\" target=\"_parent\"><img src=\"https://colab.research.google.com/assets/colab-badge.svg\" alt=\"Open In Colab\"/></a>"
      ]
    },
    {
      "cell_type": "code",
      "metadata": {
        "id": "L5s0XHsP4pga"
      },
      "source": [
        "# Created by: Prof. Valdecy Pereira, D.Sc.\n",
        "# UFF - Universidade Federal Fluminense (Brazil)\n",
        "# email:  valdecy.pereira@gmail.com\n",
        "# Lesson: pyDecisions - Fuzzy TOPSIS\n",
        "\n",
        "# GitHub Repository: <https://github.com/Valdecy>"
      ],
      "execution_count": null,
      "outputs": []
    },
    {
      "cell_type": "code",
      "metadata": {
        "id": "FOS3wfnR47_x",
        "colab": {
          "base_uri": "https://localhost:8080/"
        },
        "outputId": "f7af6b97-fc2d-4d55-c44f-6fc1ba877ff1"
      },
      "source": [
        "!pip install pyDecision"
      ],
      "execution_count": 2,
      "outputs": [
        {
          "output_type": "stream",
          "name": "stdout",
          "text": [
            "Looking in indexes: https://pypi.org/simple, https://us-python.pkg.dev/colab-wheels/public/simple/\n",
            "Collecting pyDecision\n",
            "  Downloading pyDecision-2.8.7-py3-none-any.whl (68 kB)\n",
            "\u001b[2K     \u001b[90m━━━━━━━━━━━━━━━━━━━━━━━━━━━━━━━━━━━━━━━━\u001b[0m \u001b[32m68.6/68.6 kB\u001b[0m \u001b[31m2.8 MB/s\u001b[0m eta \u001b[36m0:00:00\u001b[0m\n",
            "\u001b[?25hRequirement already satisfied: matplotlib in /usr/local/lib/python3.10/dist-packages (from pyDecision) (3.7.1)\n",
            "Requirement already satisfied: numpy in /usr/local/lib/python3.10/dist-packages (from pyDecision) (1.22.4)\n",
            "Requirement already satisfied: scikit-learn in /usr/local/lib/python3.10/dist-packages (from pyDecision) (1.2.2)\n",
            "Requirement already satisfied: scipy in /usr/local/lib/python3.10/dist-packages (from pyDecision) (1.10.1)\n",
            "Requirement already satisfied: contourpy>=1.0.1 in /usr/local/lib/python3.10/dist-packages (from matplotlib->pyDecision) (1.0.7)\n",
            "Requirement already satisfied: cycler>=0.10 in /usr/local/lib/python3.10/dist-packages (from matplotlib->pyDecision) (0.11.0)\n",
            "Requirement already satisfied: fonttools>=4.22.0 in /usr/local/lib/python3.10/dist-packages (from matplotlib->pyDecision) (4.39.3)\n",
            "Requirement already satisfied: kiwisolver>=1.0.1 in /usr/local/lib/python3.10/dist-packages (from matplotlib->pyDecision) (1.4.4)\n",
            "Requirement already satisfied: packaging>=20.0 in /usr/local/lib/python3.10/dist-packages (from matplotlib->pyDecision) (23.1)\n",
            "Requirement already satisfied: pillow>=6.2.0 in /usr/local/lib/python3.10/dist-packages (from matplotlib->pyDecision) (8.4.0)\n",
            "Requirement already satisfied: pyparsing>=2.3.1 in /usr/local/lib/python3.10/dist-packages (from matplotlib->pyDecision) (3.0.9)\n",
            "Requirement already satisfied: python-dateutil>=2.7 in /usr/local/lib/python3.10/dist-packages (from matplotlib->pyDecision) (2.8.2)\n",
            "Requirement already satisfied: joblib>=1.1.1 in /usr/local/lib/python3.10/dist-packages (from scikit-learn->pyDecision) (1.2.0)\n",
            "Requirement already satisfied: threadpoolctl>=2.0.0 in /usr/local/lib/python3.10/dist-packages (from scikit-learn->pyDecision) (3.1.0)\n",
            "Requirement already satisfied: six>=1.5 in /usr/local/lib/python3.10/dist-packages (from python-dateutil>=2.7->matplotlib->pyDecision) (1.16.0)\n",
            "Installing collected packages: pyDecision\n",
            "Successfully installed pyDecision-2.8.7\n"
          ]
        }
      ]
    },
    {
      "cell_type": "code",
      "metadata": {
        "id": "ACyzQmER5GtD"
      },
      "source": [
        "# Required Libraries\n",
        "import numpy as np\n",
        "\n",
        "# Fuzzy TOPSIS\n",
        "from pyDecision.algorithm import fuzzy_topsis_method"
      ],
      "execution_count": 3,
      "outputs": []
    },
    {
      "cell_type": "code",
      "metadata": {
        "id": "PS_GpWtf4qBj"
      },
      "source": [
        "# Fuzzy TOPSIS\n",
        "\n",
        "# Weigths\n",
        "weights = list([\n",
        "          [ (  0.04,   0.062,   0.095), (  0.069,   0.103,   0.15), (  0.403,   0.552,   0.75), (  0.165,   0.238,   0.342), (  0.032,   0.046,   0.074) ]\n",
        "    ])\n",
        "\n",
        "# Load Criterion Type: 'max' or 'min'\n",
        "criterion_type = ['max', 'max', 'min', 'min', 'min']\n",
        "\n",
        "# Dataset\n",
        "dataset = list([\n",
        "    [ (  5,   7,   9), (  5,   7,   9), (  5,   7,   9), (  1,   3,   5), (  3,   5,   7) ],   #a1\n",
        "    [ (  3,   5,   7), (  5,   7,   9), (  5,   7,   9), (  1,   3,   5), (  1,   3,   5) ],   #a2\n",
        "    [ (  1,   1,   3), (  7,   9,   9), (  3,   5,   7), (  5,   7,   9), (  3,   5,   7) ],   #a3\n",
        "    [ (  7,   9,   9), (  7,   9,   9), (  3,   5,   7), (  3,   5,   7), (  5,   7,   9) ],   #a4\n",
        "    [ (  5,   7,   9), (  5,   7,   9), (  5,   7,   9), (  5,   7,   9), (  3,   5,   7) ],   #a5\n",
        "    [ (  7,   9,   9), (  3,   5,   7), (  1,   1,   3), (  3,   5,   7), (  7,   9,   9) ],   #a6\n",
        "    [ (  5,   7,   9), (  5,   7,   9), (  3,   5,   7), (  1,   3,   5), (  3,   5,   7) ],   #a7\n",
        "    [ (  3,   5,   7), (  7,   9,   9), (  5,   7,   9), (  7,   9,   9), (  5,   7,   9) ],   #a8\n",
        "    [ (  1,   3,   5), (  5,   7,   9), (  3,   5,   7), (  1,   1,   3), (  1,   3,   5) ],   #a9\n",
        "    [ (  3,   5,   7), (  3,   5,   7), (  1,   3,   5), (  1,   1,   3), (  3,   5,   7) ],   #a10\n",
        "    [ (  7,   9,   9), (  1,   3,   5), (  3,   5,   7), (  1,   1,   3), (  7,   9,   9) ],   #a11\n",
        "    [ (  3,   5,   7), (  1,   3,   5), (  3,   5,   7), (  1,   3,   5), (  5,   7,   9) ],   #a12\n",
        "    [ (  5,   7,   9), (  5,   7,   9), (  7,   9,   9), (  3,   5,   7), (  1,   1,   3) ],   #a13\n",
        "    [ (  7,   9,   9), (  3,   5,   7), (  5,   7,   9), (  1,   1,   3), (  3,   5,   7) ],   #a14\n",
        "    [ (  7,   9,   9), (  3,   5,   7), (  1,   1,   3), (  5,   7,   9), (  3,   5,   7) ],   #a15\n",
        "    [ (  3,   5,   7), (  7,   9,   9), (  1,   1,   3), (  3,   5,   7), (  7,   9,   9) ],   #a16\n",
        "    [ (  7,   9,   9), (  7,   9,   9), (  7,   9,   9), (  1,   1,   3), (  1,   3,   5) ],   #a17\n",
        "    [ (  3,   5,   7), (  5,   7,   9), (  7,   9,   9), (  3,   5,   7), (  1,   1,   3) ]   #a18\n",
        "    ])"
      ],
      "execution_count": 6,
      "outputs": []
    },
    {
      "cell_type": "code",
      "metadata": {
        "colab": {
          "base_uri": "https://localhost:8080/",
          "height": 424
        },
        "id": "Mvmki_7Y5NyF",
        "outputId": "97a3e118-a255-47f1-c31c-cc861ca56092"
      },
      "source": [
        "# Call Fuzzy TOPSIS\n",
        "relative_closeness = fuzzy_topsis_method(dataset, weights, criterion_type, graph = True)"
      ],
      "execution_count": 7,
      "outputs": [
        {
          "output_type": "display_data",
          "data": {
            "text/plain": [
              "<Figure size 640x480 with 1 Axes>"
            ],
            "image/png": "[encoded data removed]"
          },
          "metadata": {}
        }
      ]
    },
    {
      "cell_type": "code",
      "metadata": {
        "colab": {
          "base_uri": "https://localhost:8080/"
        },
        "id": "Z369XjFZ5l2n",
        "outputId": "ba93d47e-f6e5-4538-af75-8e92fc5816a3"
      },
      "source": [
        "# Rank\n",
        "for i in range(0, relative_closeness.shape[0]):\n",
        "  print('a'+str(i+1)+' = ', round(relative_closeness[i], 2))"
      ],
      "execution_count": 8,
      "outputs": [
        {
          "output_type": "stream",
          "name": "stdout",
          "text": [
            "a1 =  0.34\n",
            "a2 =  0.35\n",
            "a3 =  0.2\n",
            "a4 =  0.29\n",
            "a5 =  0.17\n",
            "a6 =  0.7\n",
            "a7 =  0.4\n",
            "a8 =  0.14\n",
            "a9 =  0.47\n",
            "a10 =  0.68\n",
            "a11 =  0.41\n",
            "a12 =  0.33\n",
            "a13 =  0.21\n",
            "a14 =  0.38\n",
            "a15 =  0.68\n",
            "a16 =  0.72\n",
            "a17 =  0.42\n",
            "a18 =  0.19\n"
          ]
        }
      ]
    }
  ]
}